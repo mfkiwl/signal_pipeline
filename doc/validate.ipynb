{
 "cells": [
  {
   "cell_type": "markdown",
   "id": "d605a22f",
   "metadata": {},
   "source": [
    "# Independent Validation of Correlator Math\n",
    "\n",
    "Tim"
   ]
  },
  {
   "cell_type": "code",
   "execution_count": 1,
   "id": "25f98256",
   "metadata": {},
   "outputs": [],
   "source": [
    "import sympy as sp"
   ]
  },
  {
   "cell_type": "code",
   "execution_count": 2,
   "id": "ba083df3",
   "metadata": {},
   "outputs": [],
   "source": [
    "I_a = sp.Symbol('I_a', real=True)\n",
    "I_b = sp.Symbol('I_b', real=True)\n",
    "Q_a = sp.Symbol('Q_a', real=True)\n",
    "Q_b = sp.Symbol('Q_b', real=True)"
   ]
  },
  {
   "cell_type": "code",
   "execution_count": 3,
   "id": "898ebca9",
   "metadata": {},
   "outputs": [],
   "source": [
    "Z_a = I_a + sp.I*Q_a\n",
    "Z_b = I_b + sp.I*Q_b"
   ]
  },
  {
   "cell_type": "code",
   "execution_count": 4,
   "id": "8f4e57ef",
   "metadata": {},
   "outputs": [],
   "source": [
    "V_ab = Z_a * sp.conjugate(Z_b)"
   ]
  },
  {
   "cell_type": "code",
   "execution_count": 5,
   "id": "fca56f19",
   "metadata": {},
   "outputs": [
    {
     "data": {
      "text/latex": [
       "$\\displaystyle \\left(I_{a} + i Q_{a}\\right) \\left(I_{b} - i Q_{b}\\right)$"
      ],
      "text/plain": [
       "(I_a + I*Q_a)*(I_b - I*Q_b)"
      ]
     },
     "execution_count": 5,
     "metadata": {},
     "output_type": "execute_result"
    }
   ],
   "source": [
    "V_ab"
   ]
  },
  {
   "cell_type": "code",
   "execution_count": 6,
   "id": "aaee038e",
   "metadata": {},
   "outputs": [],
   "source": [
    "V_re = sp.re(V_ab)\n",
    "V_im = sp.im(V_ab)"
   ]
  },
  {
   "cell_type": "code",
   "execution_count": 7,
   "id": "6e7e6a5c",
   "metadata": {},
   "outputs": [
    {
     "data": {
      "text/latex": [
       "$\\displaystyle I_{a} I_{b} + Q_{a} Q_{b}$"
      ],
      "text/plain": [
       "I_a*I_b + Q_a*Q_b"
      ]
     },
     "execution_count": 7,
     "metadata": {},
     "output_type": "execute_result"
    }
   ],
   "source": [
    "V_re"
   ]
  },
  {
   "cell_type": "code",
   "execution_count": 8,
   "id": "8be0957e",
   "metadata": {},
   "outputs": [
    {
     "data": {
      "text/latex": [
       "$\\displaystyle - I_{a} Q_{b} + I_{b} Q_{a}$"
      ],
      "text/plain": [
       "-I_a*Q_b + I_b*Q_a"
      ]
     },
     "execution_count": 8,
     "metadata": {},
     "output_type": "execute_result"
    }
   ],
   "source": [
    "V_im"
   ]
  },
  {
   "cell_type": "markdown",
   "id": "8e0385ce",
   "metadata": {},
   "source": [
    "## Truth Table\n",
    "\n",
    "Using -1, 1 as the 'value' of 0 and 1 from the binary data"
   ]
  },
  {
   "cell_type": "code",
   "execution_count": 9,
   "id": "843bbb1f",
   "metadata": {},
   "outputs": [
    {
     "data": {
      "text/latex": [
       "$\\displaystyle I_{b} + Q_{a} Q_{b}$"
      ],
      "text/plain": [
       "I_b + Q_a*Q_b"
      ]
     },
     "execution_count": 9,
     "metadata": {},
     "output_type": "execute_result"
    }
   ],
   "source": [
    "V_re.subs([(I_a, 1)])"
   ]
  },
  {
   "cell_type": "code",
   "execution_count": 10,
   "id": "054ed2f6",
   "metadata": {},
   "outputs": [
    {
     "name": "stdout",
     "output_type": "stream",
     "text": [
      "i_a  q_a  i_b  q_b  v_re  v_im\n",
      "  -1  -1,  -1  -1,     2,    0\n",
      "  -1  -1,  -1   1,     0,    2\n",
      "  -1   1,  -1  -1,     0,   -2\n",
      "  -1   1,  -1   1,     2,    0\n",
      "  -1  -1,   1  -1,     0,   -2\n",
      "  -1  -1,   1   1,    -2,    0\n",
      "  -1   1,   1  -1,    -2,    0\n",
      "  -1   1,   1   1,     0,    2\n",
      "   1  -1,  -1  -1,     0,    2\n",
      "   1  -1,  -1   1,    -2,    0\n",
      "   1   1,  -1  -1,    -2,    0\n",
      "   1   1,  -1   1,     0,   -2\n",
      "   1  -1,   1  -1,     2,    0\n",
      "   1  -1,   1   1,     0,   -2\n",
      "   1   1,   1  -1,     0,    2\n",
      "   1   1,   1   1,     2,    0\n"
     ]
    }
   ],
   "source": [
    "print(\"i_a  q_a  i_b  q_b  v_re  v_im\")\n",
    "for i_a in [-1,1]:\n",
    "    for i_b in [-1,1]:\n",
    "        for q_a in [-1,1]:\n",
    "            for q_b in [-1,1]:\n",
    "                v_re = int(V_re.subs([(I_a, i_a), (I_b, i_b), (Q_a, q_a), (Q_b, q_b)]).evalf())\n",
    "                v_im = int(V_im.subs([(I_a, i_a), (I_b, i_b), (Q_a, q_a), (Q_b, q_b)]).evalf())\n",
    "                print(f\"{i_a:4}{q_a:4},{i_b:4}{q_b:4},  {v_re:4}, {v_im:4}\")"
   ]
  },
  {
   "cell_type": "code",
   "execution_count": null,
   "id": "cf1e72fa",
   "metadata": {},
   "outputs": [],
   "source": []
  },
  {
   "cell_type": "code",
   "execution_count": null,
   "id": "c80e9e61",
   "metadata": {},
   "outputs": [],
   "source": []
  }
 ],
 "metadata": {
  "kernelspec": {
   "display_name": "Python 3 (ipykernel)",
   "language": "python",
   "name": "python3"
  },
  "language_info": {
   "codemirror_mode": {
    "name": "ipython",
    "version": 3
   },
   "file_extension": ".py",
   "mimetype": "text/x-python",
   "name": "python",
   "nbconvert_exporter": "python",
   "pygments_lexer": "ipython3",
   "version": "3.11.2"
  }
 },
 "nbformat": 4,
 "nbformat_minor": 5
}
